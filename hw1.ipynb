{
 "cells": [
  {
   "cell_type": "markdown",
   "metadata": {},
   "source": [
    "## Урок 1. Случайные события. Условная вероятность. Формула Байеса. Независимые испытания"
   ]
  },
  {
   "cell_type": "markdown",
   "metadata": {},
   "source": [
    "1. Из колоды в 52 карты извлекаются случайным образом 4 карты. a) Найти вероятность того, что все карты – крести. б) Найти вероятность, что среди 4-х карт окажется хотя бы один туз.\n",
    "2. На входной двери подъезда установлен кодовый замок, содержащий десять кнопок с цифрами от 0 до 9. Код содержит три цифры, которые нужно нажать одновременно. Какова вероятность того, что человек, не знающий код, откроет дверь с первой попытки?\n",
    "3. В ящике имеется 15 деталей, из которых 9 окрашены. Рабочий случайным образом извлекает 3 детали. Какова вероятность того, что все извлеченные детали окрашены?\n",
    "4. В лотерее 100 билетов. Из них 2 выигрышных. Какова вероятность того, что 2 приобретенных билета окажутся выигрышными?\n"
   ]
  },
  {
   "cell_type": "code",
   "execution_count": 1,
   "metadata": {},
   "outputs": [],
   "source": [
    "from math import factorial"
   ]
  },
  {
   "cell_type": "markdown",
   "metadata": {},
   "source": [
    "### Задача 1\n",
    "\n",
    "A - выбранные четыре карты крестовой масти\n",
    "\n",
    "n = сочетание 4 из 52\n",
    "\n",
    "m = сочетание 4 из 13"
   ]
  },
  {
   "cell_type": "code",
   "execution_count": 2,
   "metadata": {},
   "outputs": [
    {
     "name": "stdout",
     "output_type": "stream",
     "text": [
      "Вероятность того, что все карты - крестовой масти = 0.002641\n"
     ]
    }
   ],
   "source": [
    "n = factorial(52) / (factorial(4)*factorial(52 - 4))\n",
    "m = factorial(13) / (factorial(4)*factorial(13 - 4))\n",
    "print(f'Вероятность того, что все карты - крестовой масти = {m/n :4f}')"
   ]
  },
  {
   "cell_type": "markdown",
   "metadata": {},
   "source": [
    "B - из выбранных карт хотя бы один туз\n",
    "\n",
    "B = B1 + B2 + B3 + B4\n",
    "\n",
    "B1 - из выбранных карт один туз\n",
    "\n",
    "B2 - из выбранных карт два туза\n",
    "\n",
    "B3 - из выбранных карт три туза\n",
    "\n",
    "B4 - из выбранных карт четыре туза\n",
    "\n",
    "n - сочетание 4 из 52\n",
    "\n",
    "m1 = (сочетание 1 из 4) * (сочетание 3 из 48)\n",
    "\n",
    "m2 = (сочетание 2 из 4) * (сочетание 2 из 48)\n",
    "\n",
    "m3 = (сочетание 3 из 4) * (сочетание 1 из 48)\n",
    "\n",
    "m4 = сочетание 4 из 4"
   ]
  },
  {
   "cell_type": "code",
   "execution_count": 3,
   "metadata": {},
   "outputs": [
    {
     "name": "stdout",
     "output_type": "stream",
     "text": [
      "Вероятность того, что из 4 вытащенных карт хотя бы один туз = 0.28\n"
     ]
    }
   ],
   "source": [
    "P1 = (factorial(4) / (factorial(1)*factorial(4 - 1))) * (factorial(48) / (factorial(3)*factorial(48 - 3))) / n\n",
    "P2 = (factorial(4) / (factorial(2)*factorial(4 - 2))) * (factorial(48) / (factorial(2)*factorial(48 - 2))) / n\n",
    "P3 = (factorial(4) / (factorial(3)*factorial(4 - 3))) * (factorial(48) / (factorial(1)*factorial(48 - 1))) / n\n",
    "P4 = (factorial(4) / (factorial(4)*factorial(4 - 4))) / n\n",
    "P = P1 + P2 + P3 + P4\n",
    "print(f'Вероятность того, что из 4 вытащенных карт хотя бы один туз = {P :.2f}')"
   ]
  },
  {
   "cell_type": "markdown",
   "metadata": {},
   "source": [
    "### Задача 2\n",
    "\n",
    "С - открытие двери с первой попытки\n",
    "\n",
    "n = размещение 3 из 10\n",
    "\n",
    "m = 1"
   ]
  },
  {
   "cell_type": "code",
   "execution_count": 4,
   "metadata": {},
   "outputs": [
    {
     "name": "stdout",
     "output_type": "stream",
     "text": [
      "Вероятность открытия с первой попытки = 0.0014\n"
     ]
    }
   ],
   "source": [
    "P = 1 / (factorial(10) / factorial(10 - 3))\n",
    "print(f'Вероятность открытия с первой попытки = {P :.4f}')"
   ]
  },
  {
   "cell_type": "markdown",
   "metadata": {},
   "source": [
    "### Задача 3\n",
    "\n",
    "D - 3 детали окрашены\n",
    "\n",
    "n = сочетание 3 из 15\n",
    "\n",
    "m = сочетание 3 из 9"
   ]
  },
  {
   "cell_type": "code",
   "execution_count": 5,
   "metadata": {},
   "outputs": [
    {
     "name": "stdout",
     "output_type": "stream",
     "text": [
      "Вероятность того, что все 3 детали окрашены = 0.18\n"
     ]
    }
   ],
   "source": [
    "P = (factorial(9) / (factorial(3)*factorial(9 - 3))) / (factorial(15) / (factorial(3)*factorial(15 - 3)))\n",
    "print(f'Вероятность того, что все 3 детали окрашены = {P :.2f}')"
   ]
  },
  {
   "cell_type": "markdown",
   "metadata": {},
   "source": [
    "### Задача 4\n",
    "\n",
    "E - два купленных билета выиграют\n",
    "\n",
    "n = сочетание 2 из 100\n",
    "\n",
    "m = сочетание 2 из 2"
   ]
  },
  {
   "cell_type": "code",
   "execution_count": 6,
   "metadata": {},
   "outputs": [
    {
     "name": "stdout",
     "output_type": "stream",
     "text": [
      "Вероятность того, что два билета выиграют = 0.00020\n"
     ]
    }
   ],
   "source": [
    "P = (factorial(2) / (factorial(2)*factorial(2 - 2))) / (factorial(100) / (factorial(2)*factorial(100 - 2)))\n",
    "print(f'Вероятность того, что два билета выиграют = {P :.5f}')"
   ]
  }
 ],
 "metadata": {
  "kernelspec": {
   "display_name": "Python 3",
   "language": "python",
   "name": "python3"
  },
  "language_info": {
   "codemirror_mode": {
    "name": "ipython",
    "version": 3
   },
   "file_extension": ".py",
   "mimetype": "text/x-python",
   "name": "python",
   "nbconvert_exporter": "python",
   "pygments_lexer": "ipython3",
   "version": "3.8.3"
  }
 },
 "nbformat": 4,
 "nbformat_minor": 4
}
